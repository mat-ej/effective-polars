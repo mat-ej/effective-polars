{
 "cells": [
  {
   "cell_type": "code",
   "execution_count": 4,
   "metadata": {},
   "outputs": [
    {
     "data": {
      "text/plain": [
       "polars.config.Config"
      ]
     },
     "execution_count": 4,
     "metadata": {},
     "output_type": "execute_result"
    }
   ],
   "source": [
    "import polars as pl\n",
    "import polars.selectors as cs\n",
    "import matplotlib.pyplot as plt\n",
    "from effective_polars import utils\n",
    "\n",
    "pl.Config.set_tbl_cols(6)"
   ]
  },
  {
   "cell_type": "code",
   "execution_count": 5,
   "metadata": {},
   "outputs": [],
   "source": [
    "path = 'data/vehicles.csv'\n",
    "df = pl.scan_csv(path, null_values=['NA'])"
   ]
  },
  {
   "cell_type": "code",
   "execution_count": 7,
   "metadata": {},
   "outputs": [],
   "source": [
    "autos = utils.tweak_auto(df).collect()"
   ]
  },
  {
   "cell_type": "code",
   "execution_count": 14,
   "metadata": {},
   "outputs": [
    {
     "data": {
      "text/html": [
       "<div><style>\n",
       ".dataframe > thead > tr,\n",
       ".dataframe > tbody > tr {\n",
       "  text-align: right;\n",
       "  white-space: pre-wrap;\n",
       "}\n",
       "</style>\n",
       "<small>shape: (47_253, 3)</small><table border=\"1\" class=\"dataframe\"><thead><tr><th>highway08</th><th>city08</th><th>mpg_ratio</th></tr><tr><td>u8</td><td>u8</td><td>f64</td></tr></thead><tbody><tr><td>25</td><td>19</td><td>1.315789</td></tr><tr><td>14</td><td>9</td><td>1.555556</td></tr><tr><td>33</td><td>23</td><td>1.434783</td></tr><tr><td>12</td><td>10</td><td>1.2</td></tr><tr><td>23</td><td>17</td><td>1.352941</td></tr><tr><td>&hellip;</td><td>&hellip;</td><td>&hellip;</td></tr><tr><td>26</td><td>19</td><td>1.368421</td></tr><tr><td>28</td><td>20</td><td>1.4</td></tr><tr><td>24</td><td>18</td><td>1.333333</td></tr><tr><td>24</td><td>18</td><td>1.333333</td></tr><tr><td>21</td><td>16</td><td>1.3125</td></tr></tbody></table></div>"
      ],
      "text/plain": [
       "shape: (47_253, 3)\n",
       "┌───────────┬────────┬───────────┐\n",
       "│ highway08 ┆ city08 ┆ mpg_ratio │\n",
       "│ ---       ┆ ---    ┆ ---       │\n",
       "│ u8        ┆ u8     ┆ f64       │\n",
       "╞═══════════╪════════╪═══════════╡\n",
       "│ 25        ┆ 19     ┆ 1.315789  │\n",
       "│ 14        ┆ 9      ┆ 1.555556  │\n",
       "│ 33        ┆ 23     ┆ 1.434783  │\n",
       "│ 12        ┆ 10     ┆ 1.2       │\n",
       "│ 23        ┆ 17     ┆ 1.352941  │\n",
       "│ …         ┆ …      ┆ …         │\n",
       "│ 26        ┆ 19     ┆ 1.368421  │\n",
       "│ 28        ┆ 20     ┆ 1.4       │\n",
       "│ 24        ┆ 18     ┆ 1.333333  │\n",
       "│ 24        ┆ 18     ┆ 1.333333  │\n",
       "│ 21        ┆ 16     ┆ 1.3125    │\n",
       "└───────────┴────────┴───────────┘"
      ]
     },
     "execution_count": 14,
     "metadata": {},
     "output_type": "execute_result"
    }
   ],
   "source": [
    "'''\n",
    "NOTE: - select takes only what specified, allows to verify\n",
    "'''\n",
    "(autos.lazy()\n",
    ".select(pl.col(['highway08', 'city08']),\n",
    "         mpg_ratio=(pl.col('highway08') / pl.col('city08'))\n",
    "         )\n",
    ".collect()\n",
    ")"
   ]
  },
  {
   "cell_type": "code",
   "execution_count": 12,
   "metadata": {},
   "outputs": [
    {
     "data": {
      "text/html": [
       "<div><style>\n",
       ".dataframe > thead > tr,\n",
       ".dataframe > tbody > tr {\n",
       "  text-align: right;\n",
       "  white-space: pre-wrap;\n",
       "}\n",
       "</style>\n",
       "<small>shape: (47_253, 16)</small><table border=\"1\" class=\"dataframe\"><thead><tr><th>year</th><th>make</th><th>model</th><th>&hellip;</th><th>is_automatic</th><th>num_gears</th><th>mpg_ratio</th></tr><tr><td>i16</td><td>cat</td><td>cat</td><td>&hellip;</td><td>bool</td><td>u8</td><td>f64</td></tr></thead><tbody><tr><td>1985</td><td>&quot;Alfa Romeo&quot;</td><td>&quot;Spider Veloce …</td><td>&hellip;</td><td>false</td><td>5</td><td>1.315789</td></tr><tr><td>1985</td><td>&quot;Ferrari&quot;</td><td>&quot;Testarossa&quot;</td><td>&hellip;</td><td>false</td><td>5</td><td>1.555556</td></tr><tr><td>1985</td><td>&quot;Dodge&quot;</td><td>&quot;Charger&quot;</td><td>&hellip;</td><td>false</td><td>5</td><td>1.434783</td></tr><tr><td>1985</td><td>&quot;Dodge&quot;</td><td>&quot;B150/B250 Wago…</td><td>&hellip;</td><td>true</td><td>3</td><td>1.2</td></tr><tr><td>1993</td><td>&quot;Subaru&quot;</td><td>&quot;Legacy AWD Tur…</td><td>&hellip;</td><td>false</td><td>5</td><td>1.352941</td></tr><tr><td>&hellip;</td><td>&hellip;</td><td>&hellip;</td><td>&hellip;</td><td>&hellip;</td><td>&hellip;</td><td>&hellip;</td></tr><tr><td>1993</td><td>&quot;Subaru&quot;</td><td>&quot;Legacy&quot;</td><td>&hellip;</td><td>true</td><td>4</td><td>1.368421</td></tr><tr><td>1993</td><td>&quot;Subaru&quot;</td><td>&quot;Legacy&quot;</td><td>&hellip;</td><td>false</td><td>5</td><td>1.4</td></tr><tr><td>1993</td><td>&quot;Subaru&quot;</td><td>&quot;Legacy AWD&quot;</td><td>&hellip;</td><td>true</td><td>4</td><td>1.333333</td></tr><tr><td>1993</td><td>&quot;Subaru&quot;</td><td>&quot;Legacy AWD&quot;</td><td>&hellip;</td><td>false</td><td>5</td><td>1.333333</td></tr><tr><td>1993</td><td>&quot;Subaru&quot;</td><td>&quot;Legacy AWD Tur…</td><td>&hellip;</td><td>true</td><td>4</td><td>1.3125</td></tr></tbody></table></div>"
      ],
      "text/plain": [
       "shape: (47_253, 16)\n",
       "┌──────┬────────────┬─────────────────────┬───┬──────────────┬───────────┬───────────┐\n",
       "│ year ┆ make       ┆ model               ┆ … ┆ is_automatic ┆ num_gears ┆ mpg_ratio │\n",
       "│ ---  ┆ ---        ┆ ---                 ┆   ┆ ---          ┆ ---       ┆ ---       │\n",
       "│ i16  ┆ cat        ┆ cat                 ┆   ┆ bool         ┆ u8        ┆ f64       │\n",
       "╞══════╪════════════╪═════════════════════╪═══╪══════════════╪═══════════╪═══════════╡\n",
       "│ 1985 ┆ Alfa Romeo ┆ Spider Veloce 2000  ┆ … ┆ false        ┆ 5         ┆ 1.315789  │\n",
       "│ 1985 ┆ Ferrari    ┆ Testarossa          ┆ … ┆ false        ┆ 5         ┆ 1.555556  │\n",
       "│ 1985 ┆ Dodge      ┆ Charger             ┆ … ┆ false        ┆ 5         ┆ 1.434783  │\n",
       "│ 1985 ┆ Dodge      ┆ B150/B250 Wagon 2WD ┆ … ┆ true         ┆ 3         ┆ 1.2       │\n",
       "│ 1993 ┆ Subaru     ┆ Legacy AWD Turbo    ┆ … ┆ false        ┆ 5         ┆ 1.352941  │\n",
       "│ …    ┆ …          ┆ …                   ┆ … ┆ …            ┆ …         ┆ …         │\n",
       "│ 1993 ┆ Subaru     ┆ Legacy              ┆ … ┆ true         ┆ 4         ┆ 1.368421  │\n",
       "│ 1993 ┆ Subaru     ┆ Legacy              ┆ … ┆ false        ┆ 5         ┆ 1.4       │\n",
       "│ 1993 ┆ Subaru     ┆ Legacy AWD          ┆ … ┆ true         ┆ 4         ┆ 1.333333  │\n",
       "│ 1993 ┆ Subaru     ┆ Legacy AWD          ┆ … ┆ false        ┆ 5         ┆ 1.333333  │\n",
       "│ 1993 ┆ Subaru     ┆ Legacy AWD Turbo    ┆ … ┆ true         ┆ 4         ┆ 1.3125    │\n",
       "└──────┴────────────┴─────────────────────┴───┴──────────────┴───────────┴───────────┘"
      ]
     },
     "execution_count": 12,
     "metadata": {},
     "output_type": "execute_result"
    }
   ],
   "source": [
    "'''\n",
    "NOTE: - with_columns preserves existing dataframe and adds mpg_ratio\n",
    "'''\n",
    "(autos.lazy()\n",
    "# .select(pl.col(['highway08', 'city08']),\n",
    "#          mpg_ratio=(pl.col('highway08') / pl.col('city08'))\n",
    "#          )\n",
    ".with_columns( \n",
    "    mpg_ratio=pl.col('highway08') / pl.col('city08')\n",
    ")\n",
    ".collect()\n",
    ")"
   ]
  },
  {
   "cell_type": "code",
   "execution_count": 15,
   "metadata": {},
   "outputs": [
    {
     "data": {
      "text/html": [
       "<div><style>\n",
       ".dataframe > thead > tr,\n",
       ".dataframe > tbody > tr {\n",
       "  text-align: right;\n",
       "  white-space: pre-wrap;\n",
       "}\n",
       "</style>\n",
       "<small>shape: (47_253, 16)</small><table border=\"1\" class=\"dataframe\"><thead><tr><th>index</th><th>year</th><th>make</th><th>&hellip;</th><th>createdOn</th><th>is_automatic</th><th>num_gears</th></tr><tr><td>u32</td><td>i16</td><td>cat</td><td>&hellip;</td><td>datetime[μs]</td><td>bool</td><td>u8</td></tr></thead><tbody><tr><td>0</td><td>1985</td><td>&quot;Alfa Romeo&quot;</td><td>&hellip;</td><td>2013-01-01 00:00:00</td><td>false</td><td>5</td></tr><tr><td>1</td><td>1985</td><td>&quot;Ferrari&quot;</td><td>&hellip;</td><td>2013-01-01 00:00:00</td><td>false</td><td>5</td></tr><tr><td>2</td><td>1985</td><td>&quot;Dodge&quot;</td><td>&hellip;</td><td>2013-01-01 00:00:00</td><td>false</td><td>5</td></tr><tr><td>3</td><td>1985</td><td>&quot;Dodge&quot;</td><td>&hellip;</td><td>2013-01-01 00:00:00</td><td>true</td><td>3</td></tr><tr><td>4</td><td>1993</td><td>&quot;Subaru&quot;</td><td>&hellip;</td><td>2013-01-01 00:00:00</td><td>false</td><td>5</td></tr><tr><td>&hellip;</td><td>&hellip;</td><td>&hellip;</td><td>&hellip;</td><td>&hellip;</td><td>&hellip;</td><td>&hellip;</td></tr><tr><td>47248</td><td>1993</td><td>&quot;Subaru&quot;</td><td>&hellip;</td><td>2013-01-01 00:00:00</td><td>true</td><td>4</td></tr><tr><td>47249</td><td>1993</td><td>&quot;Subaru&quot;</td><td>&hellip;</td><td>2013-01-01 00:00:00</td><td>false</td><td>5</td></tr><tr><td>47250</td><td>1993</td><td>&quot;Subaru&quot;</td><td>&hellip;</td><td>2013-01-01 00:00:00</td><td>true</td><td>4</td></tr><tr><td>47251</td><td>1993</td><td>&quot;Subaru&quot;</td><td>&hellip;</td><td>2013-01-01 00:00:00</td><td>false</td><td>5</td></tr><tr><td>47252</td><td>1993</td><td>&quot;Subaru&quot;</td><td>&hellip;</td><td>2013-01-01 00:00:00</td><td>true</td><td>4</td></tr></tbody></table></div>"
      ],
      "text/plain": [
       "shape: (47_253, 16)\n",
       "┌───────┬──────┬────────────┬───┬─────────────────────┬──────────────┬───────────┐\n",
       "│ index ┆ year ┆ make       ┆ … ┆ createdOn           ┆ is_automatic ┆ num_gears │\n",
       "│ ---   ┆ ---  ┆ ---        ┆   ┆ ---                 ┆ ---          ┆ ---       │\n",
       "│ u32   ┆ i16  ┆ cat        ┆   ┆ datetime[μs]        ┆ bool         ┆ u8        │\n",
       "╞═══════╪══════╪════════════╪═══╪═════════════════════╪══════════════╪═══════════╡\n",
       "│ 0     ┆ 1985 ┆ Alfa Romeo ┆ … ┆ 2013-01-01 00:00:00 ┆ false        ┆ 5         │\n",
       "│ 1     ┆ 1985 ┆ Ferrari    ┆ … ┆ 2013-01-01 00:00:00 ┆ false        ┆ 5         │\n",
       "│ 2     ┆ 1985 ┆ Dodge      ┆ … ┆ 2013-01-01 00:00:00 ┆ false        ┆ 5         │\n",
       "│ 3     ┆ 1985 ┆ Dodge      ┆ … ┆ 2013-01-01 00:00:00 ┆ true         ┆ 3         │\n",
       "│ 4     ┆ 1993 ┆ Subaru     ┆ … ┆ 2013-01-01 00:00:00 ┆ false        ┆ 5         │\n",
       "│ …     ┆ …    ┆ …          ┆ … ┆ …                   ┆ …            ┆ …         │\n",
       "│ 47248 ┆ 1993 ┆ Subaru     ┆ … ┆ 2013-01-01 00:00:00 ┆ true         ┆ 4         │\n",
       "│ 47249 ┆ 1993 ┆ Subaru     ┆ … ┆ 2013-01-01 00:00:00 ┆ false        ┆ 5         │\n",
       "│ 47250 ┆ 1993 ┆ Subaru     ┆ … ┆ 2013-01-01 00:00:00 ┆ true         ┆ 4         │\n",
       "│ 47251 ┆ 1993 ┆ Subaru     ┆ … ┆ 2013-01-01 00:00:00 ┆ false        ┆ 5         │\n",
       "│ 47252 ┆ 1993 ┆ Subaru     ┆ … ┆ 2013-01-01 00:00:00 ┆ true         ┆ 4         │\n",
       "└───────┴──────┴────────────┴───┴─────────────────────┴──────────────┴───────────┘"
      ]
     },
     "execution_count": 15,
     "metadata": {},
     "output_type": "execute_result"
    }
   ],
   "source": [
    "'''\n",
    "Pandasism indexing\n",
    "'''\n",
    "autos.with_row_index('index')"
   ]
  }
 ],
 "metadata": {
  "kernelspec": {
   "display_name": "effective-polars",
   "language": "python",
   "name": "effective-polars"
  },
  "language_info": {
   "codemirror_mode": {
    "name": "ipython",
    "version": 3
   },
   "file_extension": ".py",
   "mimetype": "text/x-python",
   "name": "python",
   "nbconvert_exporter": "python",
   "pygments_lexer": "ipython3",
   "version": "3.10.11"
  }
 },
 "nbformat": 4,
 "nbformat_minor": 2
}
