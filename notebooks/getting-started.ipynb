{
 "cells": [
  {
   "cell_type": "code",
   "execution_count": 1,
   "metadata": {},
   "outputs": [
    {
     "data": {
      "text/plain": [
       "polars.config.Config"
      ]
     },
     "execution_count": 1,
     "metadata": {},
     "output_type": "execute_result"
    }
   ],
   "source": [
    "import polars as pl\n",
    "import polars.selectors as cs\n",
    "import matplotlib.pyplot as plt\n",
    "pl.Config.set_tbl_cols(6)"
   ]
  },
  {
   "cell_type": "code",
   "execution_count": 2,
   "metadata": {},
   "outputs": [],
   "source": [
    "def tweak_auto(df: pl.DataFrame):\n",
    "    cols = ['year', 'make', 'model', 'displ', 'cylinders', 'trany',\n",
    "            'drive', 'VClass', 'fuelType', 'barrels08', 'city08',\n",
    "            'highway08', 'createdOn']\n",
    "\n",
    "    return (df\n",
    "        .select(pl.col(cols))\n",
    "        .with_columns(\n",
    "            pl.col('year').cast(pl.Int16),\n",
    "            pl.col(['cylinders', 'highway08', 'city08']).cast(pl.UInt8),\n",
    "            pl.col(['displ', 'barrels08']).cast(pl.Float32),\n",
    "            pl.col(['make', 'model', 'VClass', 'drive', 'fuelType']).cast(pl.Categorical),\n",
    "            pl.col('createdOn').str.to_datetime('%a %b %d %H:%M:%S %Z %Y'),\n",
    "            is_automatic=pl.col('trany').str.to_lowercase().str.contains('automatic').fill_null(True),\n",
    "            num_gears=pl.col('trany').str.extract(r'(\\d+)').cast(pl.UInt8).fill_null(6)\n",
    "            )\n",
    "        )"
   ]
  },
  {
   "cell_type": "code",
   "execution_count": 3,
   "metadata": {},
   "outputs": [],
   "source": [
    "path = 'data/vehicles.csv'"
   ]
  },
  {
   "cell_type": "code",
   "execution_count": 4,
   "metadata": {},
   "outputs": [
    {
     "data": {
      "text/html": [
       "<div><style>\n",
       ".dataframe > thead > tr,\n",
       ".dataframe > tbody > tr {\n",
       "  text-align: right;\n",
       "  white-space: pre-wrap;\n",
       "}\n",
       "</style>\n",
       "<small>shape: (47_253, 84)</small><table border=\"1\" class=\"dataframe\"><thead><tr><th>barrels08</th><th>barrelsA08</th><th>charge120</th><th>&hellip;</th><th>phevCity</th><th>phevHwy</th><th>phevComb</th></tr><tr><td>f64</td><td>f64</td><td>f64</td><td>&hellip;</td><td>i64</td><td>i64</td><td>i64</td></tr></thead><tbody><tr><td>14.167143</td><td>0.0</td><td>0.0</td><td>&hellip;</td><td>0</td><td>0</td><td>0</td></tr><tr><td>27.046364</td><td>0.0</td><td>0.0</td><td>&hellip;</td><td>0</td><td>0</td><td>0</td></tr><tr><td>11.018889</td><td>0.0</td><td>0.0</td><td>&hellip;</td><td>0</td><td>0</td><td>0</td></tr><tr><td>27.046364</td><td>0.0</td><td>0.0</td><td>&hellip;</td><td>0</td><td>0</td><td>0</td></tr><tr><td>15.658421</td><td>0.0</td><td>0.0</td><td>&hellip;</td><td>0</td><td>0</td><td>0</td></tr><tr><td>&hellip;</td><td>&hellip;</td><td>&hellip;</td><td>&hellip;</td><td>&hellip;</td><td>&hellip;</td><td>&hellip;</td></tr><tr><td>13.523182</td><td>0.0</td><td>0.0</td><td>&hellip;</td><td>0</td><td>0</td><td>0</td></tr><tr><td>12.935217</td><td>0.0</td><td>0.0</td><td>&hellip;</td><td>0</td><td>0</td><td>0</td></tr><tr><td>14.167143</td><td>0.0</td><td>0.0</td><td>&hellip;</td><td>0</td><td>0</td><td>0</td></tr><tr><td>14.167143</td><td>0.0</td><td>0.0</td><td>&hellip;</td><td>0</td><td>0</td><td>0</td></tr><tr><td>16.528333</td><td>0.0</td><td>0.0</td><td>&hellip;</td><td>0</td><td>0</td><td>0</td></tr></tbody></table></div>"
      ],
      "text/plain": [
       "shape: (47_253, 84)\n",
       "┌───────────┬────────────┬───────────┬───┬──────────┬─────────┬──────────┐\n",
       "│ barrels08 ┆ barrelsA08 ┆ charge120 ┆ … ┆ phevCity ┆ phevHwy ┆ phevComb │\n",
       "│ ---       ┆ ---        ┆ ---       ┆   ┆ ---      ┆ ---     ┆ ---      │\n",
       "│ f64       ┆ f64        ┆ f64       ┆   ┆ i64      ┆ i64     ┆ i64      │\n",
       "╞═══════════╪════════════╪═══════════╪═══╪══════════╪═════════╪══════════╡\n",
       "│ 14.167143 ┆ 0.0        ┆ 0.0       ┆ … ┆ 0        ┆ 0       ┆ 0        │\n",
       "│ 27.046364 ┆ 0.0        ┆ 0.0       ┆ … ┆ 0        ┆ 0       ┆ 0        │\n",
       "│ 11.018889 ┆ 0.0        ┆ 0.0       ┆ … ┆ 0        ┆ 0       ┆ 0        │\n",
       "│ 27.046364 ┆ 0.0        ┆ 0.0       ┆ … ┆ 0        ┆ 0       ┆ 0        │\n",
       "│ 15.658421 ┆ 0.0        ┆ 0.0       ┆ … ┆ 0        ┆ 0       ┆ 0        │\n",
       "│ …         ┆ …          ┆ …         ┆ … ┆ …        ┆ …       ┆ …        │\n",
       "│ 13.523182 ┆ 0.0        ┆ 0.0       ┆ … ┆ 0        ┆ 0       ┆ 0        │\n",
       "│ 12.935217 ┆ 0.0        ┆ 0.0       ┆ … ┆ 0        ┆ 0       ┆ 0        │\n",
       "│ 14.167143 ┆ 0.0        ┆ 0.0       ┆ … ┆ 0        ┆ 0       ┆ 0        │\n",
       "│ 14.167143 ┆ 0.0        ┆ 0.0       ┆ … ┆ 0        ┆ 0       ┆ 0        │\n",
       "│ 16.528333 ┆ 0.0        ┆ 0.0       ┆ … ┆ 0        ┆ 0       ┆ 0        │\n",
       "└───────────┴────────────┴───────────┴───┴──────────┴─────────┴──────────┘"
      ]
     },
     "execution_count": 4,
     "metadata": {},
     "output_type": "execute_result"
    }
   ],
   "source": [
    "df = pl.read_csv(path, null_values=['NA'])\n",
    "df"
   ]
  },
  {
   "cell_type": "code",
   "execution_count": 5,
   "metadata": {},
   "outputs": [],
   "source": [
    "lazy = pl.scan_csv(path, null_values=['NA'])"
   ]
  },
  {
   "cell_type": "code",
   "execution_count": 6,
   "metadata": {},
   "outputs": [],
   "source": [
    "df = lazy.collect()"
   ]
  },
  {
   "cell_type": "code",
   "execution_count": 7,
   "metadata": {},
   "outputs": [
    {
     "data": {
      "text/plain": [
       "'FAST_PROJECT: [year, make, model]\\n\\n    Csv SCAN data/vehicles.csv\\n    PROJECT 3/84 COLUMNS\\n    SELECTION: [([(col(\"year\")) >= (1990)]) & ([(col(\"year\")) < (2000)])]'"
      ]
     },
     "execution_count": 7,
     "metadata": {},
     "output_type": "execute_result"
    }
   ],
   "source": [
    "(lazy\n",
    " .filter((pl.col('year') >= 1990) & (pl.col('year') < 2000))\n",
    " .select(['year', 'make', 'model'])\n",
    " .explain()\n",
    " )"
   ]
  },
  {
   "cell_type": "code",
   "execution_count": 8,
   "metadata": {},
   "outputs": [
    {
     "data": {
      "text/plain": [
       "[Float64,\n",
       " Float64,\n",
       " Float64,\n",
       " Float64,\n",
       " Int64,\n",
       " Float64,\n",
       " Int64,\n",
       " Float64,\n",
       " Float64,\n",
       " Float64,\n",
       " Float64,\n",
       " Int64,\n",
       " Int64,\n",
       " Float64,\n",
       " Float64,\n",
       " Int64,\n",
       " Float64,\n",
       " Int64,\n",
       " Float64,\n",
       " Float64,\n",
       " Float64,\n",
       " Float64,\n",
       " Int64,\n",
       " Float64,\n",
       " String,\n",
       " Int64,\n",
       " String,\n",
       " Int64,\n",
       " Int64,\n",
       " Int64,\n",
       " String,\n",
       " String,\n",
       " Int64,\n",
       " Int64,\n",
       " Int64,\n",
       " Float64,\n",
       " Int64,\n",
       " Float64,\n",
       " Float64,\n",
       " Float64,\n",
       " Float64,\n",
       " Int64,\n",
       " Int64,\n",
       " Int64,\n",
       " Int64,\n",
       " Int64,\n",
       " String,\n",
       " String,\n",
       " String,\n",
       " Boolean,\n",
       " Int64,\n",
       " Int64,\n",
       " Int64,\n",
       " Float64,\n",
       " Float64,\n",
       " Float64,\n",
       " Float64,\n",
       " String,\n",
       " Float64,\n",
       " Float64,\n",
       " Float64,\n",
       " Float64,\n",
       " String,\n",
       " Int64,\n",
       " Int64,\n",
       " String,\n",
       " String,\n",
       " String,\n",
       " String,\n",
       " String,\n",
       " String,\n",
       " String,\n",
       " String,\n",
       " String,\n",
       " String,\n",
       " String,\n",
       " Float64,\n",
       " String,\n",
       " String,\n",
       " String,\n",
       " String,\n",
       " Int64,\n",
       " Int64,\n",
       " Int64]"
      ]
     },
     "execution_count": 8,
     "metadata": {},
     "output_type": "execute_result"
    }
   ],
   "source": [
    "'''\n",
    "CSV\n",
    "- human readable\n",
    "- stores data as text : (\n",
    "- does not store types\n",
    "'''\n",
    "df.dtypes"
   ]
  },
  {
   "cell_type": "code",
   "execution_count": 9,
   "metadata": {},
   "outputs": [
    {
     "data": {
      "text/plain": [
       "OrderedDict([('barrels08', Float64),\n",
       "             ('barrelsA08', Float64),\n",
       "             ('charge120', Float64),\n",
       "             ('charge240', Float64),\n",
       "             ('city08', Int64),\n",
       "             ('city08U', Float64),\n",
       "             ('cityA08', Int64),\n",
       "             ('cityA08U', Float64),\n",
       "             ('cityCD', Float64),\n",
       "             ('cityE', Float64),\n",
       "             ('cityUF', Float64),\n",
       "             ('co2', Int64),\n",
       "             ('co2A', Int64),\n",
       "             ('co2TailpipeAGpm', Float64),\n",
       "             ('co2TailpipeGpm', Float64),\n",
       "             ('comb08', Int64),\n",
       "             ('comb08U', Float64),\n",
       "             ('combA08', Int64),\n",
       "             ('combA08U', Float64),\n",
       "             ('combE', Float64),\n",
       "             ('combinedCD', Float64),\n",
       "             ('combinedUF', Float64),\n",
       "             ('cylinders', Int64),\n",
       "             ('displ', Float64),\n",
       "             ('drive', String),\n",
       "             ('engId', Int64),\n",
       "             ('eng_dscr', String),\n",
       "             ('feScore', Int64),\n",
       "             ('fuelCost08', Int64),\n",
       "             ('fuelCostA08', Int64),\n",
       "             ('fuelType', String),\n",
       "             ('fuelType1', String),\n",
       "             ('ghgScore', Int64),\n",
       "             ('ghgScoreA', Int64),\n",
       "             ('highway08', Int64),\n",
       "             ('highway08U', Float64),\n",
       "             ('highwayA08', Int64),\n",
       "             ('highwayA08U', Float64),\n",
       "             ('highwayCD', Float64),\n",
       "             ('highwayE', Float64),\n",
       "             ('highwayUF', Float64),\n",
       "             ('hlv', Int64),\n",
       "             ('hpv', Int64),\n",
       "             ('id', Int64),\n",
       "             ('lv2', Int64),\n",
       "             ('lv4', Int64),\n",
       "             ('make', String),\n",
       "             ('model', String),\n",
       "             ('mpgData', String),\n",
       "             ('phevBlended', Boolean),\n",
       "             ('pv2', Int64),\n",
       "             ('pv4', Int64),\n",
       "             ('range', Int64),\n",
       "             ('rangeCity', Float64),\n",
       "             ('rangeCityA', Float64),\n",
       "             ('rangeHwy', Float64),\n",
       "             ('rangeHwyA', Float64),\n",
       "             ('trany', String),\n",
       "             ('UCity', Float64),\n",
       "             ('UCityA', Float64),\n",
       "             ('UHighway', Float64),\n",
       "             ('UHighwayA', Float64),\n",
       "             ('VClass', String),\n",
       "             ('year', Int64),\n",
       "             ('youSaveSpend', Int64),\n",
       "             ('baseModel', String),\n",
       "             ('guzzler', String),\n",
       "             ('trans_dscr', String),\n",
       "             ('tCharger', String),\n",
       "             ('sCharger', String),\n",
       "             ('atvType', String),\n",
       "             ('fuelType2', String),\n",
       "             ('rangeA', String),\n",
       "             ('evMotor', String),\n",
       "             ('mfrCode', String),\n",
       "             ('c240Dscr', String),\n",
       "             ('charge240b', Float64),\n",
       "             ('c240bDscr', String),\n",
       "             ('createdOn', String),\n",
       "             ('modifiedOn', String),\n",
       "             ('startStop', String),\n",
       "             ('phevCity', Int64),\n",
       "             ('phevHwy', Int64),\n",
       "             ('phevComb', Int64)])"
      ]
     },
     "execution_count": 9,
     "metadata": {},
     "output_type": "execute_result"
    }
   ],
   "source": [
    "df.schema"
   ]
  },
  {
   "cell_type": "code",
   "execution_count": 10,
   "metadata": {},
   "outputs": [],
   "source": [
    "cols = ['year', 'make', 'model', 'displ', 'cylinders', 'trany', 'drive',\n",
    "... 'VClass', 'fuelType', 'barrels08', 'city08', 'highway08',\n",
    "... 'createdOn'\n",
    "]"
   ]
  },
  {
   "cell_type": "code",
   "execution_count": 11,
   "metadata": {},
   "outputs": [
    {
     "data": {
      "text/html": [
       "<div><style>\n",
       ".dataframe > thead > tr,\n",
       ".dataframe > tbody > tr {\n",
       "  text-align: right;\n",
       "  white-space: pre-wrap;\n",
       "}\n",
       "</style>\n",
       "<small>shape: (9, 5)</small><table border=\"1\" class=\"dataframe\"><thead><tr><th>statistic</th><th>year</th><th>cylinders</th><th>city08</th><th>highway08</th></tr><tr><td>str</td><td>f64</td><td>f64</td><td>f64</td><td>f64</td></tr></thead><tbody><tr><td>&quot;count&quot;</td><td>47253.0</td><td>46569.0</td><td>47253.0</td><td>47253.0</td></tr><tr><td>&quot;null_count&quot;</td><td>0.0</td><td>684.0</td><td>0.0</td><td>0.0</td></tr><tr><td>&quot;mean&quot;</td><td>2004.186761</td><td>5.703902</td><td>19.466298</td><td>25.447167</td></tr><tr><td>&quot;std&quot;</td><td>12.4758</td><td>1.772832</td><td>11.308898</td><td>10.111808</td></tr><tr><td>&quot;min&quot;</td><td>1984.0</td><td>2.0</td><td>6.0</td><td>9.0</td></tr><tr><td>&quot;25%&quot;</td><td>1993.0</td><td>4.0</td><td>15.0</td><td>20.0</td></tr><tr><td>&quot;50%&quot;</td><td>2005.0</td><td>6.0</td><td>18.0</td><td>24.0</td></tr><tr><td>&quot;75%&quot;</td><td>2015.0</td><td>6.0</td><td>21.0</td><td>28.0</td></tr><tr><td>&quot;max&quot;</td><td>2024.0</td><td>16.0</td><td>153.0</td><td>140.0</td></tr></tbody></table></div>"
      ],
      "text/plain": [
       "shape: (9, 5)\n",
       "┌────────────┬─────────────┬───────────┬───────────┬───────────┐\n",
       "│ statistic  ┆ year        ┆ cylinders ┆ city08    ┆ highway08 │\n",
       "│ ---        ┆ ---         ┆ ---       ┆ ---       ┆ ---       │\n",
       "│ str        ┆ f64         ┆ f64       ┆ f64       ┆ f64       │\n",
       "╞════════════╪═════════════╪═══════════╪═══════════╪═══════════╡\n",
       "│ count      ┆ 47253.0     ┆ 46569.0   ┆ 47253.0   ┆ 47253.0   │\n",
       "│ null_count ┆ 0.0         ┆ 684.0     ┆ 0.0       ┆ 0.0       │\n",
       "│ mean       ┆ 2004.186761 ┆ 5.703902  ┆ 19.466298 ┆ 25.447167 │\n",
       "│ std        ┆ 12.4758     ┆ 1.772832  ┆ 11.308898 ┆ 10.111808 │\n",
       "│ min        ┆ 1984.0      ┆ 2.0       ┆ 6.0       ┆ 9.0       │\n",
       "│ 25%        ┆ 1993.0      ┆ 4.0       ┆ 15.0      ┆ 20.0      │\n",
       "│ 50%        ┆ 2005.0      ┆ 6.0       ┆ 18.0      ┆ 24.0      │\n",
       "│ 75%        ┆ 2015.0      ┆ 6.0       ┆ 21.0      ┆ 28.0      │\n",
       "│ max        ┆ 2024.0      ┆ 16.0      ┆ 153.0     ┆ 140.0     │\n",
       "└────────────┴─────────────┴───────────┴───────────┴───────────┘"
      ]
     },
     "execution_count": 11,
     "metadata": {},
     "output_type": "execute_result"
    }
   ],
   "source": [
    "(df\n",
    " .select(pl.col(cols))\n",
    " .select(\n",
    "     pl.col(pl.Int64),\n",
    "     )\n",
    " .describe()\n",
    ")"
   ]
  },
  {
   "cell_type": "code",
   "execution_count": 12,
   "metadata": {},
   "outputs": [
    {
     "data": {
      "text/html": [
       "<div><style>\n",
       ".dataframe > thead > tr,\n",
       ".dataframe > tbody > tr {\n",
       "  text-align: right;\n",
       "  white-space: pre-wrap;\n",
       "}\n",
       "</style>\n",
       "<small>shape: (10, 13)</small><table border=\"1\" class=\"dataframe\"><thead><tr><th>year</th><th>make</th><th>model</th><th>&hellip;</th><th>city08</th><th>highway08</th><th>createdOn</th></tr><tr><td>i16</td><td>str</td><td>str</td><td>&hellip;</td><td>u8</td><td>u8</td><td>str</td></tr></thead><tbody><tr><td>1986</td><td>&quot;Mazda&quot;</td><td>&quot;GLC Wagon&quot;</td><td>&hellip;</td><td>22</td><td>27</td><td>&quot;Tue Jan 01 00:…</td></tr><tr><td>2020</td><td>&quot;BMW&quot;</td><td>&quot;M240i xDrive C…</td><td>&hellip;</td><td>22</td><td>30</td><td>&quot;Tue Apr 02 00:…</td></tr><tr><td>2013</td><td>&quot;Ford&quot;</td><td>&quot;F150 Pickup 4W…</td><td>&hellip;</td><td>14</td><td>19</td><td>&quot;Tue Jan 01 00:…</td></tr><tr><td>2000</td><td>&quot;Dodge&quot;</td><td>&quot;Caravan/Grand …</td><td>&hellip;</td><td>16</td><td>23</td><td>&quot;Tue Jan 01 00:…</td></tr><tr><td>2007</td><td>&quot;Ford&quot;</td><td>&quot;F150 Pickup 4W…</td><td>&hellip;</td><td>13</td><td>17</td><td>&quot;Tue Jan 01 00:…</td></tr><tr><td>2010</td><td>&quot;Mazda&quot;</td><td>&quot;5&quot;</td><td>&hellip;</td><td>21</td><td>27</td><td>&quot;Tue Jan 01 00:…</td></tr><tr><td>2004</td><td>&quot;Dodge&quot;</td><td>&quot;Intrepid&quot;</td><td>&hellip;</td><td>17</td><td>25</td><td>&quot;Tue Jan 01 00:…</td></tr><tr><td>2004</td><td>&quot;Honda&quot;</td><td>&quot;CR-V 4WD&quot;</td><td>&hellip;</td><td>19</td><td>23</td><td>&quot;Tue Jan 01 00:…</td></tr><tr><td>1998</td><td>&quot;Eagle&quot;</td><td>&quot;Talon&quot;</td><td>&hellip;</td><td>18</td><td>28</td><td>&quot;Tue Jan 01 00:…</td></tr><tr><td>1984</td><td>&quot;Honda&quot;</td><td>&quot;Prelude&quot;</td><td>&hellip;</td><td>21</td><td>27</td><td>&quot;Tue Jan 01 00:…</td></tr></tbody></table></div>"
      ],
      "text/plain": [
       "shape: (10, 13)\n",
       "┌──────┬───────┬───────────────────────────┬───┬────────┬───────────┬─────────────────────────┐\n",
       "│ year ┆ make  ┆ model                     ┆ … ┆ city08 ┆ highway08 ┆ createdOn               │\n",
       "│ ---  ┆ ---   ┆ ---                       ┆   ┆ ---    ┆ ---       ┆ ---                     │\n",
       "│ i16  ┆ str   ┆ str                       ┆   ┆ u8     ┆ u8        ┆ str                     │\n",
       "╞══════╪═══════╪═══════════════════════════╪═══╪════════╪═══════════╪═════════════════════════╡\n",
       "│ 1986 ┆ Mazda ┆ GLC Wagon                 ┆ … ┆ 22     ┆ 27        ┆ Tue Jan 01 00:00:00 EST │\n",
       "│      ┆       ┆                           ┆   ┆        ┆           ┆ 2013                    │\n",
       "│ 2020 ┆ BMW   ┆ M240i xDrive Coupe M      ┆ … ┆ 22     ┆ 30        ┆ Tue Apr 02 00:00:00 EDT │\n",
       "│      ┆       ┆ Performance               ┆   ┆        ┆           ┆ 2019                    │\n",
       "│ 2013 ┆ Ford  ┆ F150 Pickup 4WD FFV       ┆ … ┆ 14     ┆ 19        ┆ Tue Jan 01 00:00:00 EST │\n",
       "│      ┆       ┆                           ┆   ┆        ┆           ┆ 2013                    │\n",
       "│ 2000 ┆ Dodge ┆ Caravan/Grand Caravan 2WD ┆ … ┆ 16     ┆ 23        ┆ Tue Jan 01 00:00:00 EST │\n",
       "│      ┆       ┆                           ┆   ┆        ┆           ┆ 2013                    │\n",
       "│ 2007 ┆ Ford  ┆ F150 Pickup 4WD           ┆ … ┆ 13     ┆ 17        ┆ Tue Jan 01 00:00:00 EST │\n",
       "│      ┆       ┆                           ┆   ┆        ┆           ┆ 2013                    │\n",
       "│ 2010 ┆ Mazda ┆ 5                         ┆ … ┆ 21     ┆ 27        ┆ Tue Jan 01 00:00:00 EST │\n",
       "│      ┆       ┆                           ┆   ┆        ┆           ┆ 2013                    │\n",
       "│ 2004 ┆ Dodge ┆ Intrepid                  ┆ … ┆ 17     ┆ 25        ┆ Tue Jan 01 00:00:00 EST │\n",
       "│      ┆       ┆                           ┆   ┆        ┆           ┆ 2013                    │\n",
       "│ 2004 ┆ Honda ┆ CR-V 4WD                  ┆ … ┆ 19     ┆ 23        ┆ Tue Jan 01 00:00:00 EST │\n",
       "│      ┆       ┆                           ┆   ┆        ┆           ┆ 2013                    │\n",
       "│ 1998 ┆ Eagle ┆ Talon                     ┆ … ┆ 18     ┆ 28        ┆ Tue Jan 01 00:00:00 EST │\n",
       "│      ┆       ┆                           ┆   ┆        ┆           ┆ 2013                    │\n",
       "│ 1984 ┆ Honda ┆ Prelude                   ┆ … ┆ 21     ┆ 27        ┆ Tue Jan 01 00:00:00 EST │\n",
       "│      ┆       ┆                           ┆   ┆        ┆           ┆ 2013                    │\n",
       "└──────┴───────┴───────────────────────────┴───┴────────┴───────────┴─────────────────────────┘"
      ]
     },
     "execution_count": 12,
     "metadata": {},
     "output_type": "execute_result"
    }
   ],
   "source": [
    "(df\n",
    " .select(pl.col(cols))\n",
    " .with_columns(\n",
    "     pl.col('year').cast(pl.Int16),\n",
    "     pl.col('cylinders').cast(pl.UInt8),\n",
    "     pl.col('highway08').cast(pl.UInt8),\n",
    "     pl.col('city08').cast(pl.UInt8),\n",
    "     pl.col('displ').cast(pl.Float32),\n",
    "     pl.col('barrels08').cast(pl.Float32),\n",
    " )\n",
    " .sample(n=10, seed=42)\n",
    ")"
   ]
  },
  {
   "cell_type": "code",
   "execution_count": 13,
   "metadata": {},
   "outputs": [
    {
     "data": {
      "text/html": [
       "<div><style>\n",
       ".dataframe > thead > tr,\n",
       ".dataframe > tbody > tr {\n",
       "  text-align: right;\n",
       "  white-space: pre-wrap;\n",
       "}\n",
       "</style>\n",
       "<small>shape: (47_253, 2)</small><table border=\"1\" class=\"dataframe\"><thead><tr><th>year</th><th>cylinders</th></tr><tr><td>i16</td><td>i8</td></tr></thead><tbody><tr><td>1985</td><td>4</td></tr><tr><td>1985</td><td>12</td></tr><tr><td>1985</td><td>4</td></tr><tr><td>1985</td><td>8</td></tr><tr><td>1993</td><td>4</td></tr><tr><td>&hellip;</td><td>&hellip;</td></tr><tr><td>1993</td><td>4</td></tr><tr><td>1993</td><td>4</td></tr><tr><td>1993</td><td>4</td></tr><tr><td>1993</td><td>4</td></tr><tr><td>1993</td><td>4</td></tr></tbody></table></div>"
      ],
      "text/plain": [
       "shape: (47_253, 2)\n",
       "┌──────┬───────────┐\n",
       "│ year ┆ cylinders │\n",
       "│ ---  ┆ ---       │\n",
       "│ i16  ┆ i8        │\n",
       "╞══════╪═══════════╡\n",
       "│ 1985 ┆ 4         │\n",
       "│ 1985 ┆ 12        │\n",
       "│ 1985 ┆ 4         │\n",
       "│ 1985 ┆ 8         │\n",
       "│ 1993 ┆ 4         │\n",
       "│ …    ┆ …         │\n",
       "│ 1993 ┆ 4         │\n",
       "│ 1993 ┆ 4         │\n",
       "│ 1993 ┆ 4         │\n",
       "│ 1993 ┆ 4         │\n",
       "│ 1993 ┆ 4         │\n",
       "└──────┴───────────┘"
      ]
     },
     "execution_count": 13,
     "metadata": {},
     "output_type": "execute_result"
    }
   ],
   "source": [
    "'''\n",
    "NOTE: shrink_dtype() - inside select\n",
    "'''\n",
    "\n",
    "(df\n",
    " .select(pl.col(cols).shrink_dtype())\n",
    " .select(['year','cylinders'])\n",
    ")"
   ]
  },
  {
   "cell_type": "code",
   "execution_count": 14,
   "metadata": {},
   "outputs": [
    {
     "data": {
      "text/html": [
       "<div><style>\n",
       ".dataframe > thead > tr,\n",
       ".dataframe > tbody > tr {\n",
       "  text-align: right;\n",
       "  white-space: pre-wrap;\n",
       "}\n",
       "</style>\n",
       "<small>shape: (47_253, 2)</small><table border=\"1\" class=\"dataframe\"><thead><tr><th>trany</th><th>automatic</th></tr><tr><td>str</td><td>bool</td></tr></thead><tbody><tr><td>&quot;Manual 5-spd&quot;</td><td>false</td></tr><tr><td>&quot;Manual 5-spd&quot;</td><td>false</td></tr><tr><td>&quot;Manual 5-spd&quot;</td><td>false</td></tr><tr><td>&quot;Automatic 3-sp…</td><td>true</td></tr><tr><td>&quot;Manual 5-spd&quot;</td><td>false</td></tr><tr><td>&hellip;</td><td>&hellip;</td></tr><tr><td>&quot;Automatic 4-sp…</td><td>true</td></tr><tr><td>&quot;Manual 5-spd&quot;</td><td>false</td></tr><tr><td>&quot;Automatic 4-sp…</td><td>true</td></tr><tr><td>&quot;Manual 5-spd&quot;</td><td>false</td></tr><tr><td>&quot;Automatic 4-sp…</td><td>true</td></tr></tbody></table></div>"
      ],
      "text/plain": [
       "shape: (47_253, 2)\n",
       "┌─────────────────┬───────────┐\n",
       "│ trany           ┆ automatic │\n",
       "│ ---             ┆ ---       │\n",
       "│ str             ┆ bool      │\n",
       "╞═════════════════╪═══════════╡\n",
       "│ Manual 5-spd    ┆ false     │\n",
       "│ Manual 5-spd    ┆ false     │\n",
       "│ Manual 5-spd    ┆ false     │\n",
       "│ Automatic 3-spd ┆ true      │\n",
       "│ Manual 5-spd    ┆ false     │\n",
       "│ …               ┆ …         │\n",
       "│ Automatic 4-spd ┆ true      │\n",
       "│ Manual 5-spd    ┆ false     │\n",
       "│ Automatic 4-spd ┆ true      │\n",
       "│ Manual 5-spd    ┆ false     │\n",
       "│ Automatic 4-spd ┆ true      │\n",
       "└─────────────────┴───────────┘"
      ]
     },
     "execution_count": 14,
     "metadata": {},
     "output_type": "execute_result"
    }
   ],
   "source": [
    "df.select('trany', pl.col('trany')\n",
    "          .str.to_lowercase()\n",
    "          .str.contains('automatic')\n",
    "          .alias('automatic')\n",
    "          )"
   ]
  },
  {
   "cell_type": "code",
   "execution_count": 15,
   "metadata": {},
   "outputs": [
    {
     "data": {
      "text/html": [
       "<div><style>\n",
       ".dataframe > thead > tr,\n",
       ".dataframe > tbody > tr {\n",
       "  text-align: right;\n",
       "  white-space: pre-wrap;\n",
       "}\n",
       "</style>\n",
       "<small>shape: (47_253, 85)</small><table border=\"1\" class=\"dataframe\"><thead><tr><th>barrels08</th><th>barrelsA08</th><th>charge120</th><th>&hellip;</th><th>phevHwy</th><th>phevComb</th><th>is_automatic</th></tr><tr><td>f64</td><td>f64</td><td>f64</td><td>&hellip;</td><td>i64</td><td>i64</td><td>bool</td></tr></thead><tbody><tr><td>14.167143</td><td>0.0</td><td>0.0</td><td>&hellip;</td><td>0</td><td>0</td><td>false</td></tr><tr><td>27.046364</td><td>0.0</td><td>0.0</td><td>&hellip;</td><td>0</td><td>0</td><td>false</td></tr><tr><td>11.018889</td><td>0.0</td><td>0.0</td><td>&hellip;</td><td>0</td><td>0</td><td>false</td></tr><tr><td>27.046364</td><td>0.0</td><td>0.0</td><td>&hellip;</td><td>0</td><td>0</td><td>true</td></tr><tr><td>15.658421</td><td>0.0</td><td>0.0</td><td>&hellip;</td><td>0</td><td>0</td><td>false</td></tr><tr><td>&hellip;</td><td>&hellip;</td><td>&hellip;</td><td>&hellip;</td><td>&hellip;</td><td>&hellip;</td><td>&hellip;</td></tr><tr><td>13.523182</td><td>0.0</td><td>0.0</td><td>&hellip;</td><td>0</td><td>0</td><td>true</td></tr><tr><td>12.935217</td><td>0.0</td><td>0.0</td><td>&hellip;</td><td>0</td><td>0</td><td>false</td></tr><tr><td>14.167143</td><td>0.0</td><td>0.0</td><td>&hellip;</td><td>0</td><td>0</td><td>true</td></tr><tr><td>14.167143</td><td>0.0</td><td>0.0</td><td>&hellip;</td><td>0</td><td>0</td><td>false</td></tr><tr><td>16.528333</td><td>0.0</td><td>0.0</td><td>&hellip;</td><td>0</td><td>0</td><td>true</td></tr></tbody></table></div>"
      ],
      "text/plain": [
       "shape: (47_253, 85)\n",
       "┌───────────┬────────────┬───────────┬───┬─────────┬──────────┬──────────────┐\n",
       "│ barrels08 ┆ barrelsA08 ┆ charge120 ┆ … ┆ phevHwy ┆ phevComb ┆ is_automatic │\n",
       "│ ---       ┆ ---        ┆ ---       ┆   ┆ ---     ┆ ---      ┆ ---          │\n",
       "│ f64       ┆ f64        ┆ f64       ┆   ┆ i64     ┆ i64      ┆ bool         │\n",
       "╞═══════════╪════════════╪═══════════╪═══╪═════════╪══════════╪══════════════╡\n",
       "│ 14.167143 ┆ 0.0        ┆ 0.0       ┆ … ┆ 0       ┆ 0        ┆ false        │\n",
       "│ 27.046364 ┆ 0.0        ┆ 0.0       ┆ … ┆ 0       ┆ 0        ┆ false        │\n",
       "│ 11.018889 ┆ 0.0        ┆ 0.0       ┆ … ┆ 0       ┆ 0        ┆ false        │\n",
       "│ 27.046364 ┆ 0.0        ┆ 0.0       ┆ … ┆ 0       ┆ 0        ┆ true         │\n",
       "│ 15.658421 ┆ 0.0        ┆ 0.0       ┆ … ┆ 0       ┆ 0        ┆ false        │\n",
       "│ …         ┆ …          ┆ …         ┆ … ┆ …       ┆ …        ┆ …            │\n",
       "│ 13.523182 ┆ 0.0        ┆ 0.0       ┆ … ┆ 0       ┆ 0        ┆ true         │\n",
       "│ 12.935217 ┆ 0.0        ┆ 0.0       ┆ … ┆ 0       ┆ 0        ┆ false        │\n",
       "│ 14.167143 ┆ 0.0        ┆ 0.0       ┆ … ┆ 0       ┆ 0        ┆ true         │\n",
       "│ 14.167143 ┆ 0.0        ┆ 0.0       ┆ … ┆ 0       ┆ 0        ┆ false        │\n",
       "│ 16.528333 ┆ 0.0        ┆ 0.0       ┆ … ┆ 0       ┆ 0        ┆ true         │\n",
       "└───────────┴────────────┴───────────┴───┴─────────┴──────────┴──────────────┘"
      ]
     },
     "execution_count": 15,
     "metadata": {},
     "output_type": "execute_result"
    }
   ],
   "source": [
    "(df\n",
    " .with_columns(\n",
    "     'trany',\n",
    "     is_automatic = pl.col('trany')\n",
    "     .str.to_lowercase()\n",
    "     .str.contains('automatic')\n",
    "     .fill_null(True)\n",
    "    )\n",
    ")"
   ]
  },
  {
   "cell_type": "code",
   "execution_count": 16,
   "metadata": {},
   "outputs": [
    {
     "data": {
      "text/html": [
       "<div><style>\n",
       ".dataframe > thead > tr,\n",
       ".dataframe > tbody > tr {\n",
       "  text-align: right;\n",
       "  white-space: pre-wrap;\n",
       "}\n",
       "</style>\n",
       "<small>shape: (41, 2)</small><table border=\"1\" class=\"dataframe\"><thead><tr><th>trany</th><th>len</th></tr><tr><td>str</td><td>u32</td></tr></thead><tbody><tr><td>&quot;Automatic 4-sp…</td><td>11048</td></tr><tr><td>&quot;Manual 5-spd&quot;</td><td>8391</td></tr><tr><td>&quot;Automatic (S6)…</td><td>3336</td></tr><tr><td>&quot;Automatic 3-sp…</td><td>3151</td></tr><tr><td>&quot;Automatic (S8)…</td><td>3089</td></tr><tr><td>&hellip;</td><td>&hellip;</td></tr><tr><td>null</td><td>11</td></tr><tr><td>&quot;Automatic (AM-…</td><td>6</td></tr><tr><td>&quot;Automatic (L3)…</td><td>2</td></tr><tr><td>&quot;Automatic (L4)…</td><td>2</td></tr><tr><td>&quot;Automatic (AM-…</td><td>2</td></tr></tbody></table></div>"
      ],
      "text/plain": [
       "shape: (41, 2)\n",
       "┌────────────────────┬───────┐\n",
       "│ trany              ┆ len   │\n",
       "│ ---                ┆ ---   │\n",
       "│ str                ┆ u32   │\n",
       "╞════════════════════╪═══════╡\n",
       "│ Automatic 4-spd    ┆ 11048 │\n",
       "│ Manual 5-spd       ┆ 8391  │\n",
       "│ Automatic (S6)     ┆ 3336  │\n",
       "│ Automatic 3-spd    ┆ 3151  │\n",
       "│ Automatic (S8)     ┆ 3089  │\n",
       "│ …                  ┆ …     │\n",
       "│ null               ┆ 11    │\n",
       "│ Automatic (AM-S9)  ┆ 6     │\n",
       "│ Automatic (L3)     ┆ 2     │\n",
       "│ Automatic (L4)     ┆ 2     │\n",
       "│ Automatic (AM-S10) ┆ 2     │\n",
       "└────────────────────┴───────┘"
      ]
     },
     "execution_count": 16,
     "metadata": {},
     "output_type": "execute_result"
    }
   ],
   "source": [
    "(df\n",
    " .group_by('trany')\n",
    " .len()\n",
    " .sort('len', descending=True)\n",
    " )"
   ]
  },
  {
   "cell_type": "code",
   "execution_count": 17,
   "metadata": {},
   "outputs": [
    {
     "data": {
      "text/html": [
       "<div><style>\n",
       ".dataframe > thead > tr,\n",
       ".dataframe > tbody > tr {\n",
       "  text-align: right;\n",
       "  white-space: pre-wrap;\n",
       "}\n",
       "</style>\n",
       "<small>shape: (41, 2)</small><table border=\"1\" class=\"dataframe\"><thead><tr><th>trany</th><th>count</th></tr><tr><td>str</td><td>u32</td></tr></thead><tbody><tr><td>&quot;Automatic 4-sp…</td><td>11048</td></tr><tr><td>&quot;Manual 5-spd&quot;</td><td>8391</td></tr><tr><td>&quot;Automatic (S6)…</td><td>3336</td></tr><tr><td>&quot;Automatic 3-sp…</td><td>3151</td></tr><tr><td>&quot;Automatic (S8)…</td><td>3089</td></tr><tr><td>&hellip;</td><td>&hellip;</td></tr><tr><td>null</td><td>11</td></tr><tr><td>&quot;Automatic (AM-…</td><td>6</td></tr><tr><td>&quot;Automatic (L4)…</td><td>2</td></tr><tr><td>&quot;Automatic (L3)…</td><td>2</td></tr><tr><td>&quot;Automatic (AM-…</td><td>2</td></tr></tbody></table></div>"
      ],
      "text/plain": [
       "shape: (41, 2)\n",
       "┌────────────────────┬───────┐\n",
       "│ trany              ┆ count │\n",
       "│ ---                ┆ ---   │\n",
       "│ str                ┆ u32   │\n",
       "╞════════════════════╪═══════╡\n",
       "│ Automatic 4-spd    ┆ 11048 │\n",
       "│ Manual 5-spd       ┆ 8391  │\n",
       "│ Automatic (S6)     ┆ 3336  │\n",
       "│ Automatic 3-spd    ┆ 3151  │\n",
       "│ Automatic (S8)     ┆ 3089  │\n",
       "│ …                  ┆ …     │\n",
       "│ null               ┆ 11    │\n",
       "│ Automatic (AM-S9)  ┆ 6     │\n",
       "│ Automatic (L4)     ┆ 2     │\n",
       "│ Automatic (L3)     ┆ 2     │\n",
       "│ Automatic (AM-S10) ┆ 2     │\n",
       "└────────────────────┴───────┘"
      ]
     },
     "execution_count": 17,
     "metadata": {},
     "output_type": "execute_result"
    }
   ],
   "source": [
    "(df\n",
    " .select(pl.col('trany')\n",
    "         .value_counts(sort=True)\n",
    "        )\n",
    ".unnest('trany')\n",
    ")"
   ]
  },
  {
   "cell_type": "code",
   "execution_count": 18,
   "metadata": {},
   "outputs": [
    {
     "data": {
      "text/html": [
       "<div><style>\n",
       ".dataframe > thead > tr,\n",
       ".dataframe > tbody > tr {\n",
       "  text-align: right;\n",
       "  white-space: pre-wrap;\n",
       "}\n",
       "</style>\n",
       "<small>shape: (10, 4)</small><table border=\"1\" class=\"dataframe\"><thead><tr><th>year</th><th>make</th><th>model</th><th>VClass</th></tr><tr><td>i64</td><td>str</td><td>str</td><td>str</td></tr></thead><tbody><tr><td>1984</td><td>&quot;GMC&quot;</td><td>&quot;C25 Pickup 2WD…</td><td>&quot;Standard Picku…</td></tr><tr><td>2001</td><td>&quot;Ford&quot;</td><td>&quot;Explorer USPS …</td><td>&quot;Sport Utility …</td></tr><tr><td>2001</td><td>&quot;Ford&quot;</td><td>&quot;Th!nk&quot;</td><td>&quot;Two Seaters&quot;</td></tr><tr><td>2002</td><td>&quot;Ford&quot;</td><td>&quot;Explorer USPS …</td><td>&quot;Sport Utility …</td></tr><tr><td>2001</td><td>&quot;Nissan&quot;</td><td>&quot;Hyper-Mini&quot;</td><td>&quot;Two Seaters&quot;</td></tr><tr><td>2002</td><td>&quot;Toyota&quot;</td><td>&quot;RAV4 EV&quot;</td><td>&quot;Sport Utility …</td></tr><tr><td>2001</td><td>&quot;Toyota&quot;</td><td>&quot;RAV4 EV&quot;</td><td>&quot;Sport Utility …</td></tr><tr><td>1984</td><td>&quot;Ford&quot;</td><td>&quot;F150 Pickup 2W…</td><td>&quot;Standard Picku…</td></tr><tr><td>2003</td><td>&quot;Toyota&quot;</td><td>&quot;RAV4 EV&quot;</td><td>&quot;Sport Utility …</td></tr><tr><td>2000</td><td>&quot;Nissan&quot;</td><td>&quot;Altra EV&quot;</td><td>&quot;Midsize Statio…</td></tr></tbody></table></div>"
      ],
      "text/plain": [
       "shape: (10, 4)\n",
       "┌──────┬────────┬────────────────────────┬─────────────────────────────┐\n",
       "│ year ┆ make   ┆ model                  ┆ VClass                      │\n",
       "│ ---  ┆ ---    ┆ ---                    ┆ ---                         │\n",
       "│ i64  ┆ str    ┆ str                    ┆ str                         │\n",
       "╞══════╪════════╪════════════════════════╪═════════════════════════════╡\n",
       "│ 1984 ┆ GMC    ┆ C25 Pickup 2WD         ┆ Standard Pickup Trucks 2WD  │\n",
       "│ 2001 ┆ Ford   ┆ Explorer USPS Electric ┆ Sport Utility Vehicle - 2WD │\n",
       "│ 2001 ┆ Ford   ┆ Th!nk                  ┆ Two Seaters                 │\n",
       "│ 2002 ┆ Ford   ┆ Explorer USPS Electric ┆ Sport Utility Vehicle - 2WD │\n",
       "│ 2001 ┆ Nissan ┆ Hyper-Mini             ┆ Two Seaters                 │\n",
       "│ 2002 ┆ Toyota ┆ RAV4 EV                ┆ Sport Utility Vehicle - 2WD │\n",
       "│ 2001 ┆ Toyota ┆ RAV4 EV                ┆ Sport Utility Vehicle - 2WD │\n",
       "│ 1984 ┆ Ford   ┆ F150 Pickup 2WD        ┆ Standard Pickup Trucks 2WD  │\n",
       "│ 2003 ┆ Toyota ┆ RAV4 EV                ┆ Sport Utility Vehicle - 2WD │\n",
       "│ 2000 ┆ Nissan ┆ Altra EV               ┆ Midsize Station Wagons      │\n",
       "└──────┴────────┴────────────────────────┴─────────────────────────────┘"
      ]
     },
     "execution_count": 18,
     "metadata": {},
     "output_type": "execute_result"
    }
   ],
   "source": [
    "(df\n",
    " .filter(pl.col('trany').is_null())\n",
    " .select('year', 'make', 'model', 'VClass')\n",
    " .sample(10)\n",
    " )"
   ]
  },
  {
   "cell_type": "code",
   "execution_count": 19,
   "metadata": {},
   "outputs": [
    {
     "data": {
      "text/html": [
       "<div><style>\n",
       ".dataframe > thead > tr,\n",
       ".dataframe > tbody > tr {\n",
       "  text-align: right;\n",
       "  white-space: pre-wrap;\n",
       "}\n",
       "</style>\n",
       "<small>shape: (1_100, 1)</small><table border=\"1\" class=\"dataframe\"><thead><tr><th>num_gears</th></tr><tr><td>u8</td></tr></thead><tbody><tr><td>null</td></tr><tr><td>null</td></tr><tr><td>null</td></tr><tr><td>null</td></tr><tr><td>null</td></tr><tr><td>&hellip;</td></tr><tr><td>null</td></tr><tr><td>null</td></tr><tr><td>null</td></tr><tr><td>null</td></tr><tr><td>null</td></tr></tbody></table></div>"
      ],
      "text/plain": [
       "shape: (1_100, 1)\n",
       "┌───────────┐\n",
       "│ num_gears │\n",
       "│ ---       │\n",
       "│ u8        │\n",
       "╞═══════════╡\n",
       "│ null      │\n",
       "│ null      │\n",
       "│ null      │\n",
       "│ null      │\n",
       "│ null      │\n",
       "│ …         │\n",
       "│ null      │\n",
       "│ null      │\n",
       "│ null      │\n",
       "│ null      │\n",
       "│ null      │\n",
       "└───────────┘"
      ]
     },
     "execution_count": 19,
     "metadata": {},
     "output_type": "execute_result"
    }
   ],
   "source": [
    "(df\n",
    " .select(\n",
    "     num_gears=pl.col('trany').str.extract(r'(\\d+)').cast(pl.UInt8)\n",
    "     )\n",
    ".filter(pl.col('num_gears').is_null())\n",
    " )"
   ]
  },
  {
   "cell_type": "code",
   "execution_count": 20,
   "metadata": {},
   "outputs": [
    {
     "data": {
      "text/html": [
       "<div><style>\n",
       ".dataframe > thead > tr,\n",
       ".dataframe > tbody > tr {\n",
       "  text-align: right;\n",
       "  white-space: pre-wrap;\n",
       "}\n",
       "</style>\n",
       "<small>shape: (47_253, 86)</small><table border=\"1\" class=\"dataframe\"><thead><tr><th>barrels08</th><th>barrelsA08</th><th>charge120</th><th>&hellip;</th><th>phevComb</th><th>is_automatic</th><th>num_gears</th></tr><tr><td>f64</td><td>f64</td><td>f64</td><td>&hellip;</td><td>i64</td><td>bool</td><td>u8</td></tr></thead><tbody><tr><td>14.167143</td><td>0.0</td><td>0.0</td><td>&hellip;</td><td>0</td><td>false</td><td>5</td></tr><tr><td>27.046364</td><td>0.0</td><td>0.0</td><td>&hellip;</td><td>0</td><td>false</td><td>5</td></tr><tr><td>11.018889</td><td>0.0</td><td>0.0</td><td>&hellip;</td><td>0</td><td>false</td><td>5</td></tr><tr><td>27.046364</td><td>0.0</td><td>0.0</td><td>&hellip;</td><td>0</td><td>true</td><td>3</td></tr><tr><td>15.658421</td><td>0.0</td><td>0.0</td><td>&hellip;</td><td>0</td><td>false</td><td>5</td></tr><tr><td>&hellip;</td><td>&hellip;</td><td>&hellip;</td><td>&hellip;</td><td>&hellip;</td><td>&hellip;</td><td>&hellip;</td></tr><tr><td>13.523182</td><td>0.0</td><td>0.0</td><td>&hellip;</td><td>0</td><td>true</td><td>4</td></tr><tr><td>12.935217</td><td>0.0</td><td>0.0</td><td>&hellip;</td><td>0</td><td>false</td><td>5</td></tr><tr><td>14.167143</td><td>0.0</td><td>0.0</td><td>&hellip;</td><td>0</td><td>true</td><td>4</td></tr><tr><td>14.167143</td><td>0.0</td><td>0.0</td><td>&hellip;</td><td>0</td><td>false</td><td>5</td></tr><tr><td>16.528333</td><td>0.0</td><td>0.0</td><td>&hellip;</td><td>0</td><td>true</td><td>4</td></tr></tbody></table></div>"
      ],
      "text/plain": [
       "shape: (47_253, 86)\n",
       "┌───────────┬────────────┬───────────┬───┬──────────┬──────────────┬───────────┐\n",
       "│ barrels08 ┆ barrelsA08 ┆ charge120 ┆ … ┆ phevComb ┆ is_automatic ┆ num_gears │\n",
       "│ ---       ┆ ---        ┆ ---       ┆   ┆ ---      ┆ ---          ┆ ---       │\n",
       "│ f64       ┆ f64        ┆ f64       ┆   ┆ i64      ┆ bool         ┆ u8        │\n",
       "╞═══════════╪════════════╪═══════════╪═══╪══════════╪══════════════╪═══════════╡\n",
       "│ 14.167143 ┆ 0.0        ┆ 0.0       ┆ … ┆ 0        ┆ false        ┆ 5         │\n",
       "│ 27.046364 ┆ 0.0        ┆ 0.0       ┆ … ┆ 0        ┆ false        ┆ 5         │\n",
       "│ 11.018889 ┆ 0.0        ┆ 0.0       ┆ … ┆ 0        ┆ false        ┆ 5         │\n",
       "│ 27.046364 ┆ 0.0        ┆ 0.0       ┆ … ┆ 0        ┆ true         ┆ 3         │\n",
       "│ 15.658421 ┆ 0.0        ┆ 0.0       ┆ … ┆ 0        ┆ false        ┆ 5         │\n",
       "│ …         ┆ …          ┆ …         ┆ … ┆ …        ┆ …            ┆ …         │\n",
       "│ 13.523182 ┆ 0.0        ┆ 0.0       ┆ … ┆ 0        ┆ true         ┆ 4         │\n",
       "│ 12.935217 ┆ 0.0        ┆ 0.0       ┆ … ┆ 0        ┆ false        ┆ 5         │\n",
       "│ 14.167143 ┆ 0.0        ┆ 0.0       ┆ … ┆ 0        ┆ true         ┆ 4         │\n",
       "│ 14.167143 ┆ 0.0        ┆ 0.0       ┆ … ┆ 0        ┆ false        ┆ 5         │\n",
       "│ 16.528333 ┆ 0.0        ┆ 0.0       ┆ … ┆ 0        ┆ true         ┆ 4         │\n",
       "└───────────┴────────────┴───────────┴───┴──────────┴──────────────┴───────────┘"
      ]
     },
     "execution_count": 20,
     "metadata": {},
     "output_type": "execute_result"
    }
   ],
   "source": [
    "(df\n",
    " .with_columns(\n",
    "     is_automatic=pl.col('trany').str.to_lowercase().str.contains('automatic').fill_null(True),\n",
    "     num_gears=pl.col('trany').str.extract(r'(\\d+)').cast(pl.UInt8).fill_null(6)\n",
    "     )\n",
    ")"
   ]
  },
  {
   "cell_type": "code",
   "execution_count": 21,
   "metadata": {},
   "outputs": [],
   "source": [
    "def tweak_auto(df: pl.DataFrame):\n",
    "    cols = ['year', 'make', 'model', 'displ', 'cylinders', 'trany',\n",
    "            'drive', 'VClass', 'fuelType', 'barrels08', 'city08',\n",
    "            'highway08', 'createdOn']\n",
    "\n",
    "    return (df\n",
    "        .select(pl.col(cols))\n",
    "        .with_columns(\n",
    "            pl.col('year').cast(pl.Int16),\n",
    "            pl.col(['cylinders', 'highway08', 'city08']).cast(pl.UInt8),\n",
    "            pl.col(['displ', 'barrels08']).cast(pl.Float32),\n",
    "            pl.col(['make', 'model', 'VClass', 'drive', 'fuelType']).cast(pl.Categorical),\n",
    "            pl.col('createdOn').str.to_datetime('%a %b %d %H:%M:%S %Z %Y'),\n",
    "            is_automatic=pl.col('trany').str.to_lowercase().str.contains('automatic').fill_null(True),\n",
    "            num_gears=pl.col('trany').str.extract(r'(\\d+)').cast(pl.UInt8).fill_null(6)\n",
    "            )\n",
    "        # .select(pl.col('createdOn').str.to_datetime(\"%H:%M:%S\"))\n",
    "        )"
   ]
  },
  {
   "cell_type": "code",
   "execution_count": 22,
   "metadata": {},
   "outputs": [
    {
     "data": {
      "text/plain": [
       "3.2708921432495117"
      ]
     },
     "execution_count": 22,
     "metadata": {},
     "output_type": "execute_result"
    }
   ],
   "source": [
    "tweak_auto(df).estimated_size(unit='mb')"
   ]
  },
  {
   "cell_type": "code",
   "execution_count": 23,
   "metadata": {},
   "outputs": [
    {
     "data": {
      "text/plain": [
       "10.784215927124023"
      ]
     },
     "execution_count": 23,
     "metadata": {},
     "output_type": "execute_result"
    }
   ],
   "source": [
    "df.select(cols).estimated_size(unit='mb')"
   ]
  },
  {
   "cell_type": "code",
   "execution_count": 24,
   "metadata": {},
   "outputs": [
    {
     "data": {
      "text/html": [
       "<div><style>\n",
       ".dataframe > thead > tr,\n",
       ".dataframe > tbody > tr {\n",
       "  text-align: right;\n",
       "  white-space: pre-wrap;\n",
       "}\n",
       "</style>\n",
       "<small>shape: (9, 16)</small><table border=\"1\" class=\"dataframe\"><thead><tr><th>statistic</th><th>year</th><th>make</th><th>&hellip;</th><th>createdOn</th><th>is_automatic</th><th>num_gears</th></tr><tr><td>str</td><td>f64</td><td>str</td><td>&hellip;</td><td>str</td><td>f64</td><td>f64</td></tr></thead><tbody><tr><td>&quot;count&quot;</td><td>47253.0</td><td>&quot;47253&quot;</td><td>&hellip;</td><td>&quot;47253&quot;</td><td>47253.0</td><td>47253.0</td></tr><tr><td>&quot;null_count&quot;</td><td>0.0</td><td>&quot;0&quot;</td><td>&hellip;</td><td>&quot;0&quot;</td><td>0.0</td><td>0.0</td></tr><tr><td>&quot;mean&quot;</td><td>2004.186761</td><td>null</td><td>&hellip;</td><td>&quot;2014-09-04 03:…</td><td>0.720272</td><td>5.335534</td></tr><tr><td>&quot;std&quot;</td><td>12.4758</td><td>null</td><td>&hellip;</td><td>null</td><td>null</td><td>1.682876</td></tr><tr><td>&quot;min&quot;</td><td>1984.0</td><td>null</td><td>&hellip;</td><td>&quot;2013-01-01 00:…</td><td>0.0</td><td>1.0</td></tr><tr><td>&quot;25%&quot;</td><td>1993.0</td><td>null</td><td>&hellip;</td><td>&quot;2013-01-01 00:…</td><td>null</td><td>4.0</td></tr><tr><td>&quot;50%&quot;</td><td>2005.0</td><td>null</td><td>&hellip;</td><td>&quot;2013-01-01 00:…</td><td>null</td><td>5.0</td></tr><tr><td>&quot;75%&quot;</td><td>2015.0</td><td>null</td><td>&hellip;</td><td>&quot;2014-10-06 00:…</td><td>null</td><td>6.0</td></tr><tr><td>&quot;max&quot;</td><td>2024.0</td><td>null</td><td>&hellip;</td><td>&quot;2024-02-22 00:…</td><td>1.0</td><td>10.0</td></tr></tbody></table></div>"
      ],
      "text/plain": [
       "shape: (9, 16)\n",
       "┌────────────┬─────────────┬───────┬───┬────────────────────────────┬──────────────┬───────────┐\n",
       "│ statistic  ┆ year        ┆ make  ┆ … ┆ createdOn                  ┆ is_automatic ┆ num_gears │\n",
       "│ ---        ┆ ---         ┆ ---   ┆   ┆ ---                        ┆ ---          ┆ ---       │\n",
       "│ str        ┆ f64         ┆ str   ┆   ┆ str                        ┆ f64          ┆ f64       │\n",
       "╞════════════╪═════════════╪═══════╪═══╪════════════════════════════╪══════════════╪═══════════╡\n",
       "│ count      ┆ 47253.0     ┆ 47253 ┆ … ┆ 47253                      ┆ 47253.0      ┆ 47253.0   │\n",
       "│ null_count ┆ 0.0         ┆ 0     ┆ … ┆ 0                          ┆ 0.0          ┆ 0.0       │\n",
       "│ mean       ┆ 2004.186761 ┆ null  ┆ … ┆ 2014-09-04 03:15:02.114151 ┆ 0.720272     ┆ 5.335534  │\n",
       "│ std        ┆ 12.4758     ┆ null  ┆ … ┆ null                       ┆ null         ┆ 1.682876  │\n",
       "│ min        ┆ 1984.0      ┆ null  ┆ … ┆ 2013-01-01 00:00:00        ┆ 0.0          ┆ 1.0       │\n",
       "│ 25%        ┆ 1993.0      ┆ null  ┆ … ┆ 2013-01-01 00:00:00        ┆ null         ┆ 4.0       │\n",
       "│ 50%        ┆ 2005.0      ┆ null  ┆ … ┆ 2013-01-01 00:00:00        ┆ null         ┆ 5.0       │\n",
       "│ 75%        ┆ 2015.0      ┆ null  ┆ … ┆ 2014-10-06 00:00:00        ┆ null         ┆ 6.0       │\n",
       "│ max        ┆ 2024.0      ┆ null  ┆ … ┆ 2024-02-22 00:00:00        ┆ 1.0          ┆ 10.0      │\n",
       "└────────────┴─────────────┴───────┴───┴────────────────────────────┴──────────────┴───────────┘"
      ]
     },
     "execution_count": 24,
     "metadata": {},
     "output_type": "execute_result"
    }
   ],
   "source": [
    "tweak_auto(df).describe()"
   ]
  },
  {
   "cell_type": "code",
   "execution_count": 25,
   "metadata": {},
   "outputs": [
    {
     "name": "stdout",
     "output_type": "stream",
     "text": [
      "shape: (7, 8)\n",
      "┌───────────┬───────────┬───────┬───┬───────────┬───────────┬───────────┐\n",
      "│ names     ┆ year      ┆ displ ┆ … ┆ city08    ┆ highway08 ┆ num_gears │\n",
      "│ ---       ┆ ---       ┆ ---   ┆   ┆ ---       ┆ ---       ┆ ---       │\n",
      "│ str       ┆ f64       ┆ f64   ┆   ┆ f64       ┆ f64       ┆ f64       │\n",
      "╞═══════════╪═══════════╪═══════╪═══╪═══════════╪═══════════╪═══════════╡\n",
      "│ year      ┆ 1.0       ┆ NaN   ┆ … ┆ 0.241539  ┆ 0.293519  ┆ 0.689072  │\n",
      "│ displ     ┆ NaN       ┆ NaN   ┆ … ┆ NaN       ┆ NaN       ┆ NaN       │\n",
      "│ cylinders ┆ NaN       ┆ NaN   ┆ … ┆ NaN       ┆ NaN       ┆ NaN       │\n",
      "│ barrels08 ┆ -0.318352 ┆ NaN   ┆ … ┆ -0.716735 ┆ -0.808861 ┆ -0.086102 │\n",
      "│ city08    ┆ 0.241539  ┆ NaN   ┆ … ┆ 1.0       ┆ 0.960393  ┆ -0.172695 │\n",
      "│ highway08 ┆ 0.293519  ┆ NaN   ┆ … ┆ 0.960393  ┆ 1.0       ┆ -0.08762  │\n",
      "│ num_gears ┆ 0.689072  ┆ NaN   ┆ … ┆ -0.172695 ┆ -0.08762  ┆ 1.0       │\n",
      "└───────────┴───────────┴───────┴───┴───────────┴───────────┴───────────┘\n"
     ]
    }
   ],
   "source": [
    "print(tweak_auto(df)\n",
    "... .select(cs.numeric())\n",
    "... .corr()\n",
    "... .pipe(lambda df_: df_.insert_column(0, pl.Series('names', df_.columns)))\n",
    "... )"
   ]
  },
  {
   "cell_type": "code",
   "execution_count": 26,
   "metadata": {},
   "outputs": [
    {
     "data": {
      "text/html": [
       "<div><style>\n",
       ".dataframe > thead > tr,\n",
       ".dataframe > tbody > tr {\n",
       "  text-align: right;\n",
       "  white-space: pre-wrap;\n",
       "}\n",
       "</style>\n",
       "<small>shape: (7, 8)</small><table border=\"1\" class=\"dataframe\"><thead><tr><th>names</th><th>year</th><th>displ</th><th>&hellip;</th><th>city08</th><th>highway08</th><th>num_gears</th></tr><tr><td>str</td><td>f64</td><td>f64</td><td>&hellip;</td><td>f64</td><td>f64</td><td>f64</td></tr></thead><tbody><tr><td>&quot;year&quot;</td><td>1.0</td><td>NaN</td><td>&hellip;</td><td>0.241539</td><td>0.293519</td><td>0.689072</td></tr><tr><td>&quot;displ&quot;</td><td>NaN</td><td>NaN</td><td>&hellip;</td><td>NaN</td><td>NaN</td><td>NaN</td></tr><tr><td>&quot;cylinders&quot;</td><td>NaN</td><td>NaN</td><td>&hellip;</td><td>NaN</td><td>NaN</td><td>NaN</td></tr><tr><td>&quot;barrels08&quot;</td><td>-0.318352</td><td>NaN</td><td>&hellip;</td><td>-0.716735</td><td>-0.808861</td><td>-0.086102</td></tr><tr><td>&quot;city08&quot;</td><td>0.241539</td><td>NaN</td><td>&hellip;</td><td>1.0</td><td>0.960393</td><td>-0.172695</td></tr><tr><td>&quot;highway08&quot;</td><td>0.293519</td><td>NaN</td><td>&hellip;</td><td>0.960393</td><td>1.0</td><td>-0.08762</td></tr><tr><td>&quot;num_gears&quot;</td><td>0.689072</td><td>NaN</td><td>&hellip;</td><td>-0.172695</td><td>-0.08762</td><td>1.0</td></tr></tbody></table></div>"
      ],
      "text/plain": [
       "shape: (7, 8)\n",
       "┌───────────┬───────────┬───────┬───┬───────────┬───────────┬───────────┐\n",
       "│ names     ┆ year      ┆ displ ┆ … ┆ city08    ┆ highway08 ┆ num_gears │\n",
       "│ ---       ┆ ---       ┆ ---   ┆   ┆ ---       ┆ ---       ┆ ---       │\n",
       "│ str       ┆ f64       ┆ f64   ┆   ┆ f64       ┆ f64       ┆ f64       │\n",
       "╞═══════════╪═══════════╪═══════╪═══╪═══════════╪═══════════╪═══════════╡\n",
       "│ year      ┆ 1.0       ┆ NaN   ┆ … ┆ 0.241539  ┆ 0.293519  ┆ 0.689072  │\n",
       "│ displ     ┆ NaN       ┆ NaN   ┆ … ┆ NaN       ┆ NaN       ┆ NaN       │\n",
       "│ cylinders ┆ NaN       ┆ NaN   ┆ … ┆ NaN       ┆ NaN       ┆ NaN       │\n",
       "│ barrels08 ┆ -0.318352 ┆ NaN   ┆ … ┆ -0.716735 ┆ -0.808861 ┆ -0.086102 │\n",
       "│ city08    ┆ 0.241539  ┆ NaN   ┆ … ┆ 1.0       ┆ 0.960393  ┆ -0.172695 │\n",
       "│ highway08 ┆ 0.293519  ┆ NaN   ┆ … ┆ 0.960393  ┆ 1.0       ┆ -0.08762  │\n",
       "│ num_gears ┆ 0.689072  ┆ NaN   ┆ … ┆ -0.172695 ┆ -0.08762  ┆ 1.0       │\n",
       "└───────────┴───────────┴───────┴───┴───────────┴───────────┴───────────┘"
      ]
     },
     "execution_count": 26,
     "metadata": {},
     "output_type": "execute_result"
    }
   ],
   "source": [
    "(tweak_auto(df)\n",
    " .select(cs.numeric())\n",
    " .corr()\n",
    " .pipe(lambda df_: df_.insert_column(0, pl.Series('names', df_.columns)))\n",
    ")"
   ]
  },
  {
   "cell_type": "code",
   "execution_count": 27,
   "metadata": {},
   "outputs": [],
   "source": [
    "df = pl.scan_csv(path, null_values=['NA'])"
   ]
  },
  {
   "cell_type": "code",
   "execution_count": 28,
   "metadata": {},
   "outputs": [
    {
     "data": {
      "text/html": [
       "<style type=\"text/css\">\n",
       "#T_76671_row0_col0, #T_76671_row1_col1, #T_76671_row2_col2, #T_76671_row3_col3, #T_76671_row4_col4, #T_76671_row5_col5, #T_76671_row6_col6, #T_76671_row7_col7 {\n",
       "  background-color: #053061;\n",
       "  color: #f1f1f1;\n",
       "}\n",
       "#T_76671_row0_col1, #T_76671_row1_col0 {\n",
       "  background-color: #f6f7f7;\n",
       "  color: #000000;\n",
       "}\n",
       "#T_76671_row0_col2, #T_76671_row2_col0 {\n",
       "  background-color: #f2f5f6;\n",
       "  color: #000000;\n",
       "}\n",
       "#T_76671_row0_col3, #T_76671_row3_col0 {\n",
       "  background-color: #f8bfa4;\n",
       "  color: #000000;\n",
       "}\n",
       "#T_76671_row0_col4, #T_76671_row4_col0 {\n",
       "  background-color: #bddbea;\n",
       "  color: #000000;\n",
       "}\n",
       "#T_76671_row0_col5, #T_76671_row5_col0 {\n",
       "  background-color: #acd2e5;\n",
       "  color: #000000;\n",
       "}\n",
       "#T_76671_row0_col6, #T_76671_row6_col0 {\n",
       "  background-color: #b1d5e7;\n",
       "  color: #000000;\n",
       "}\n",
       "#T_76671_row0_col7, #T_76671_row7_col0 {\n",
       "  background-color: #2a71b2;\n",
       "  color: #f1f1f1;\n",
       "}\n",
       "#T_76671_row1_col2, #T_76671_row2_col1 {\n",
       "  background-color: #0f437b;\n",
       "  color: #f1f1f1;\n",
       "}\n",
       "#T_76671_row1_col3, #T_76671_row3_col1 {\n",
       "  background-color: #1e61a5;\n",
       "  color: #f1f1f1;\n",
       "}\n",
       "#T_76671_row1_col4, #T_76671_row4_col1 {\n",
       "  background-color: #a21328;\n",
       "  color: #f1f1f1;\n",
       "}\n",
       "#T_76671_row1_col5, #T_76671_row5_col1 {\n",
       "  background-color: #ba2832;\n",
       "  color: #f1f1f1;\n",
       "}\n",
       "#T_76671_row1_col6, #T_76671_row2_col6, #T_76671_row6_col1, #T_76671_row6_col2 {\n",
       "  background-color: #cae1ee;\n",
       "  color: #000000;\n",
       "}\n",
       "#T_76671_row1_col7, #T_76671_row7_col1 {\n",
       "  background-color: #f8f4f2;\n",
       "  color: #000000;\n",
       "}\n",
       "#T_76671_row2_col3, #T_76671_row3_col2 {\n",
       "  background-color: #246aae;\n",
       "  color: #f1f1f1;\n",
       "}\n",
       "#T_76671_row2_col4, #T_76671_row4_col2 {\n",
       "  background-color: #ae172a;\n",
       "  color: #f1f1f1;\n",
       "}\n",
       "#T_76671_row2_col5, #T_76671_row5_col2 {\n",
       "  background-color: #c43b3c;\n",
       "  color: #f1f1f1;\n",
       "}\n",
       "#T_76671_row2_col7, #T_76671_row7_col2 {\n",
       "  background-color: #f3f5f6;\n",
       "  color: #000000;\n",
       "}\n",
       "#T_76671_row3_col4, #T_76671_row4_col3 {\n",
       "  background-color: #700320;\n",
       "  color: #f1f1f1;\n",
       "}\n",
       "#T_76671_row3_col5, #T_76671_row5_col3 {\n",
       "  background-color: #760521;\n",
       "  color: #f1f1f1;\n",
       "}\n",
       "#T_76671_row3_col6, #T_76671_row6_col3 {\n",
       "  background-color: #e6eff4;\n",
       "  color: #000000;\n",
       "}\n",
       "#T_76671_row3_col7, #T_76671_row7_col3 {\n",
       "  background-color: #fcd5bf;\n",
       "  color: #000000;\n",
       "}\n",
       "#T_76671_row4_col5, #T_76671_row5_col4 {\n",
       "  background-color: #0e4179;\n",
       "  color: #f1f1f1;\n",
       "}\n",
       "#T_76671_row4_col6, #T_76671_row6_col4 {\n",
       "  background-color: #fae9df;\n",
       "  color: #000000;\n",
       "}\n",
       "#T_76671_row4_col7, #T_76671_row7_col4 {\n",
       "  background-color: #d4e6f1;\n",
       "  color: #000000;\n",
       "}\n",
       "#T_76671_row5_col6, #T_76671_row6_col5 {\n",
       "  background-color: #faeae1;\n",
       "  color: #000000;\n",
       "}\n",
       "#T_76671_row5_col7, #T_76671_row7_col5 {\n",
       "  background-color: #c0dceb;\n",
       "  color: #000000;\n",
       "}\n",
       "#T_76671_row6_col7, #T_76671_row7_col6 {\n",
       "  background-color: #f7f6f6;\n",
       "  color: #000000;\n",
       "}\n",
       "</style>\n",
       "<table id=\"T_76671\">\n",
       "  <thead>\n",
       "    <tr>\n",
       "      <th class=\"blank level0\" >&nbsp;</th>\n",
       "      <th id=\"T_76671_level0_col0\" class=\"col_heading level0 col0\" >year</th>\n",
       "      <th id=\"T_76671_level0_col1\" class=\"col_heading level0 col1\" >displ</th>\n",
       "      <th id=\"T_76671_level0_col2\" class=\"col_heading level0 col2\" >cylinders</th>\n",
       "      <th id=\"T_76671_level0_col3\" class=\"col_heading level0 col3\" >barrels08</th>\n",
       "      <th id=\"T_76671_level0_col4\" class=\"col_heading level0 col4\" >city08</th>\n",
       "      <th id=\"T_76671_level0_col5\" class=\"col_heading level0 col5\" >highway08</th>\n",
       "      <th id=\"T_76671_level0_col6\" class=\"col_heading level0 col6\" >is_automatic</th>\n",
       "      <th id=\"T_76671_level0_col7\" class=\"col_heading level0 col7\" >num_gears</th>\n",
       "    </tr>\n",
       "  </thead>\n",
       "  <tbody>\n",
       "    <tr>\n",
       "      <th id=\"T_76671_level0_row0\" class=\"row_heading level0 row0\" >year</th>\n",
       "      <td id=\"T_76671_row0_col0\" class=\"data row0 col0\" >1.000000</td>\n",
       "      <td id=\"T_76671_row0_col1\" class=\"data row0 col1\" >0.005803</td>\n",
       "      <td id=\"T_76671_row0_col2\" class=\"data row0 col2\" >0.023903</td>\n",
       "      <td id=\"T_76671_row0_col3\" class=\"data row0 col3\" >-0.298987</td>\n",
       "      <td id=\"T_76671_row0_col4\" class=\"data row0 col4\" >0.258297</td>\n",
       "      <td id=\"T_76671_row0_col5\" class=\"data row0 col5\" >0.313739</td>\n",
       "      <td id=\"T_76671_row0_col6\" class=\"data row0 col6\" >0.297311</td>\n",
       "      <td id=\"T_76671_row0_col7\" class=\"data row0 col7\" >0.747438</td>\n",
       "    </tr>\n",
       "    <tr>\n",
       "      <th id=\"T_76671_level0_row1\" class=\"row_heading level0 row1\" >displ</th>\n",
       "      <td id=\"T_76671_row1_col0\" class=\"data row1 col0\" >0.005803</td>\n",
       "      <td id=\"T_76671_row1_col1\" class=\"data row1 col1\" >1.000000</td>\n",
       "      <td id=\"T_76671_row1_col2\" class=\"data row1 col2\" >0.928107</td>\n",
       "      <td id=\"T_76671_row1_col3\" class=\"data row1 col3\" >0.820204</td>\n",
       "      <td id=\"T_76671_row1_col4\" class=\"data row1 col4\" >-0.839825</td>\n",
       "      <td id=\"T_76671_row1_col5\" class=\"data row1 col5\" >-0.751455</td>\n",
       "      <td id=\"T_76671_row1_col6\" class=\"data row1 col6\" >0.220538</td>\n",
       "      <td id=\"T_76671_row1_col7\" class=\"data row1 col7\" >-0.022081</td>\n",
       "    </tr>\n",
       "    <tr>\n",
       "      <th id=\"T_76671_level0_row2\" class=\"row_heading level0 row2\" >cylinders</th>\n",
       "      <td id=\"T_76671_row2_col0\" class=\"data row2 col0\" >0.023903</td>\n",
       "      <td id=\"T_76671_row2_col1\" class=\"data row2 col1\" >0.928107</td>\n",
       "      <td id=\"T_76671_row2_col2\" class=\"data row2 col2\" >1.000000</td>\n",
       "      <td id=\"T_76671_row2_col3\" class=\"data row2 col3\" >0.779289</td>\n",
       "      <td id=\"T_76671_row2_col4\" class=\"data row2 col4\" >-0.810613</td>\n",
       "      <td id=\"T_76671_row2_col5\" class=\"data row2 col5\" >-0.700523</td>\n",
       "      <td id=\"T_76671_row2_col6\" class=\"data row2 col6\" >0.220546</td>\n",
       "      <td id=\"T_76671_row2_col7\" class=\"data row2 col7\" >0.021806</td>\n",
       "    </tr>\n",
       "    <tr>\n",
       "      <th id=\"T_76671_level0_row3\" class=\"row_heading level0 row3\" >barrels08</th>\n",
       "      <td id=\"T_76671_row3_col0\" class=\"data row3 col0\" >-0.298987</td>\n",
       "      <td id=\"T_76671_row3_col1\" class=\"data row3 col1\" >0.820204</td>\n",
       "      <td id=\"T_76671_row3_col2\" class=\"data row3 col2\" >0.779289</td>\n",
       "      <td id=\"T_76671_row3_col3\" class=\"data row3 col3\" >1.000000</td>\n",
       "      <td id=\"T_76671_row3_col4\" class=\"data row3 col4\" >-0.972526</td>\n",
       "      <td id=\"T_76671_row3_col5\" class=\"data row3 col5\" >-0.959152</td>\n",
       "      <td id=\"T_76671_row3_col6\" class=\"data row3 col6\" >0.090284</td>\n",
       "      <td id=\"T_76671_row3_col7\" class=\"data row3 col7\" >-0.222655</td>\n",
       "    </tr>\n",
       "    <tr>\n",
       "      <th id=\"T_76671_level0_row4\" class=\"row_heading level0 row4\" >city08</th>\n",
       "      <td id=\"T_76671_row4_col0\" class=\"data row4 col0\" >0.258297</td>\n",
       "      <td id=\"T_76671_row4_col1\" class=\"data row4 col1\" >-0.839825</td>\n",
       "      <td id=\"T_76671_row4_col2\" class=\"data row4 col2\" >-0.810613</td>\n",
       "      <td id=\"T_76671_row4_col3\" class=\"data row4 col3\" >-0.972526</td>\n",
       "      <td id=\"T_76671_row4_col4\" class=\"data row4 col4\" >1.000000</td>\n",
       "      <td id=\"T_76671_row4_col5\" class=\"data row4 col5\" >0.933954</td>\n",
       "      <td id=\"T_76671_row4_col6\" class=\"data row4 col6\" >-0.096596</td>\n",
       "      <td id=\"T_76671_row4_col7\" class=\"data row4 col7\" >0.186269</td>\n",
       "    </tr>\n",
       "    <tr>\n",
       "      <th id=\"T_76671_level0_row5\" class=\"row_heading level0 row5\" >highway08</th>\n",
       "      <td id=\"T_76671_row5_col0\" class=\"data row5 col0\" >0.313739</td>\n",
       "      <td id=\"T_76671_row5_col1\" class=\"data row5 col1\" >-0.751455</td>\n",
       "      <td id=\"T_76671_row5_col2\" class=\"data row5 col2\" >-0.700523</td>\n",
       "      <td id=\"T_76671_row5_col3\" class=\"data row5 col3\" >-0.959152</td>\n",
       "      <td id=\"T_76671_row5_col4\" class=\"data row5 col4\" >0.933954</td>\n",
       "      <td id=\"T_76671_row5_col5\" class=\"data row5 col5\" >1.000000</td>\n",
       "      <td id=\"T_76671_row5_col6\" class=\"data row5 col6\" >-0.090121</td>\n",
       "      <td id=\"T_76671_row5_col7\" class=\"data row5 col7\" >0.254525</td>\n",
       "    </tr>\n",
       "    <tr>\n",
       "      <th id=\"T_76671_level0_row6\" class=\"row_heading level0 row6\" >is_automatic</th>\n",
       "      <td id=\"T_76671_row6_col0\" class=\"data row6 col0\" >0.297311</td>\n",
       "      <td id=\"T_76671_row6_col1\" class=\"data row6 col1\" >0.220538</td>\n",
       "      <td id=\"T_76671_row6_col2\" class=\"data row6 col2\" >0.220546</td>\n",
       "      <td id=\"T_76671_row6_col3\" class=\"data row6 col3\" >0.090284</td>\n",
       "      <td id=\"T_76671_row6_col4\" class=\"data row6 col4\" >-0.096596</td>\n",
       "      <td id=\"T_76671_row6_col5\" class=\"data row6 col5\" >-0.090121</td>\n",
       "      <td id=\"T_76671_row6_col6\" class=\"data row6 col6\" >1.000000</td>\n",
       "      <td id=\"T_76671_row6_col7\" class=\"data row6 col7\" >-0.001679</td>\n",
       "    </tr>\n",
       "    <tr>\n",
       "      <th id=\"T_76671_level0_row7\" class=\"row_heading level0 row7\" >num_gears</th>\n",
       "      <td id=\"T_76671_row7_col0\" class=\"data row7 col0\" >0.747438</td>\n",
       "      <td id=\"T_76671_row7_col1\" class=\"data row7 col1\" >-0.022081</td>\n",
       "      <td id=\"T_76671_row7_col2\" class=\"data row7 col2\" >0.021806</td>\n",
       "      <td id=\"T_76671_row7_col3\" class=\"data row7 col3\" >-0.222655</td>\n",
       "      <td id=\"T_76671_row7_col4\" class=\"data row7 col4\" >0.186269</td>\n",
       "      <td id=\"T_76671_row7_col5\" class=\"data row7 col5\" >0.254525</td>\n",
       "      <td id=\"T_76671_row7_col6\" class=\"data row7 col6\" >-0.001679</td>\n",
       "      <td id=\"T_76671_row7_col7\" class=\"data row7 col7\" >1.000000</td>\n",
       "    </tr>\n",
       "  </tbody>\n",
       "</table>\n"
      ],
      "text/plain": [
       "<pandas.io.formats.style.Styler at 0x2ad8f8cd0>"
      ]
     },
     "execution_count": 28,
     "metadata": {},
     "output_type": "execute_result"
    }
   ],
   "source": [
    "(tweak_auto(df)\n",
    " .collect()\n",
    " .to_pandas()\n",
    "#  .collect()\n",
    " .corr(method='spearman', numeric_only=True)\n",
    " .style.background_gradient(cmap='RdBu', vmin=-1, vmax=1)\n",
    ")"
   ]
  }
 ],
 "metadata": {
  "kernelspec": {
   "display_name": "effective-polars",
   "language": "python",
   "name": "effective-polars"
  },
  "language_info": {
   "codemirror_mode": {
    "name": "ipython",
    "version": 3
   },
   "file_extension": ".py",
   "mimetype": "text/x-python",
   "name": "python",
   "nbconvert_exporter": "python",
   "pygments_lexer": "ipython3",
   "version": "3.10.11"
  }
 },
 "nbformat": 4,
 "nbformat_minor": 2
}
